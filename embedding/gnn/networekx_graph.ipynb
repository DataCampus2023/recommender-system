{
 "cells": [
  {
   "cell_type": "code",
   "execution_count": 1,
   "id": "3c2cf22b",
   "metadata": {},
   "outputs": [],
   "source": [
    "import networkx as nx"
   ]
  },
  {
   "cell_type": "code",
   "execution_count": 2,
   "id": "89b0985d",
   "metadata": {},
   "outputs": [],
   "source": [
    "# 빈 heterogeneous graph 생성\n",
    "graph = nx.MultiDiGraph()"
   ]
  },
  {
   "cell_type": "code",
   "execution_count": 3,
   "id": "7d8e4962",
   "metadata": {},
   "outputs": [
    {
     "name": "stdout",
     "output_type": "stream",
     "text": [
      "Nodes: [(1, {'node_type': 'user', 'name': 'Alice', 'age': 30, 'job': 'Engineer'}), (2, {'node_type': 'user', 'name': 'Bob', 'age': 25, 'job': 'Designer'}), (3, {'node_type': 'post', 'title': 'Hello', 'content': 'Welcome to the community!'}), (4, {'node_type': 'post', 'title': 'AI', 'content': 'Artificial Intelligence is amazing!'})]\n",
      "Edges: [(1, 3, {'relation': 'authored'}), (2, 4, {'relation': 'authored'})]\n"
     ]
    }
   ],
   "source": [
    "# 노드 타입 정의\n",
    "node_types = {\n",
    "    'user': {'name': str, 'age': int, 'job': str},\n",
    "    'post': {'title': str, 'content': str}\n",
    "}\n",
    "\n",
    "# 노드 추가\n",
    "graph.add_node(1, node_type='user', name='Alice', age=30, job='Engineer')\n",
    "graph.add_node(2, node_type='user', name='Bob', age=25, job='Designer')\n",
    "graph.add_node(3, node_type='post', title='Hello', content='Welcome to the community!')\n",
    "graph.add_node(4, node_type='post', title='AI', content='Artificial Intelligence is amazing!')\n",
    "\n",
    "# 엣지 추가\n",
    "graph.add_edge(1, 3, relation='authored')\n",
    "graph.add_edge(2, 4, relation='authored')\n",
    "\n",
    "# 그래프 정보 출력\n",
    "print(\"Nodes:\", graph.nodes(data=True))\n",
    "print(\"Edges:\", graph.edges(data=True))"
   ]
  },
  {
   "cell_type": "code",
   "execution_count": 5,
   "id": "b5430785",
   "metadata": {},
   "outputs": [
    {
     "data": {
      "text/plain": [
       "0"
      ]
     },
     "execution_count": 5,
     "metadata": {},
     "output_type": "execute_result"
    }
   ],
   "source": [
    "# 새로운 노드 정보\n",
    "new_nodes = [\n",
    "    {'node_id': 5, 'ntype': 'user', 'name': 'Charlie', 'age': 28, 'job': 'Data Scientist'},\n",
    "    {'node_id': 6, 'ntype': 'post', 'title': 'New Post', 'content': 'This is a new post!'}\n",
    "]\n",
    "\n",
    "# 새로운 노드 추가\n",
    "for node in new_nodes:\n",
    "    node_id = node['node_id']\n",
    "    ntype = node['ntype']\n",
    "    node_data = {attr: node[attr] for attr in node_types[ntype]}\n",
    "    graph.add_node(node_id, ntype=ntype, **node_data)\n",
    "    \n",
    "graph.add_edge(1, 6, relation='authored')\n",
    "graph.add_edge(5, 4, relation='authored')"
   ]
  },
  {
   "cell_type": "code",
   "execution_count": 6,
   "id": "20cf762e",
   "metadata": {},
   "outputs": [
    {
     "data": {
      "text/plain": [
       "<networkx.classes.multidigraph.MultiDiGraph at 0x1bb037af950>"
      ]
     },
     "execution_count": 6,
     "metadata": {},
     "output_type": "execute_result"
    }
   ],
   "source": [
    "graph"
   ]
  },
  {
   "cell_type": "code",
   "execution_count": 7,
   "id": "cdd1bb14",
   "metadata": {},
   "outputs": [
    {
     "name": "stdout",
     "output_type": "stream",
     "text": [
      "Nodes: [(1, {'node_type': 'user', 'name': 'Alice', 'age': 30, 'job': 'Engineer'}), (2, {'node_type': 'user', 'name': 'Bob', 'age': 25, 'job': 'Designer'}), (3, {'node_type': 'post', 'title': 'Hello', 'content': 'Welcome to the community!'}), (4, {'node_type': 'post', 'title': 'AI', 'content': 'Artificial Intelligence is amazing!'}), (5, {'ntype': 'user', 'name': 'Charlie', 'age': 28, 'job': 'Data Scientist'}), (6, {'ntype': 'post', 'title': 'New Post', 'content': 'This is a new post!'})]\n",
      "Edges: [(1, 3, {'relation': 'authored'}), (1, 6, {'relation': 'authored'}), (2, 4, {'relation': 'authored'}), (5, 4, {'relation': 'authored'})]\n"
     ]
    }
   ],
   "source": [
    "print(\"Nodes:\", graph.nodes(data=True))\n",
    "print(\"Edges:\", graph.edges(data=True))"
   ]
  },
  {
   "cell_type": "code",
   "execution_count": 8,
   "id": "08d1dd99",
   "metadata": {},
   "outputs": [],
   "source": [
    "def node_add(graph, node):\n",
    "    node_id = node['node_id']\n",
    "    ntype = node['ntype']\n",
    "    node_data = {attr: node[attr] for attr in node_types[ntype]}\n",
    "    graph.add_node(node_id, ntype=ntype, **node_data)"
   ]
  },
  {
   "cell_type": "code",
   "execution_count": 9,
   "id": "1fd14764",
   "metadata": {},
   "outputs": [],
   "source": [
    "def find_node_id_by_name(graph, name):\n",
    "    for node_id, node_data in graph.nodes(data=True):\n",
    "        if 'name' in node_data and node_data['name'] == name:\n",
    "            return node_id\n",
    "    return None\n",
    "\n",
    "def edge_add(graph, user, post):\n",
    "    user_id = find_node_id_by_name(graph,user)\n",
    "    post_id = find_node_id_by_name(graph,post)\n",
    "    \n",
    "    graph.add_edge(1, 6, relation='authored')"
   ]
  },
  {
   "cell_type": "code",
   "execution_count": null,
   "id": "aa73d1bc",
   "metadata": {},
   "outputs": [],
   "source": []
  }
 ],
 "metadata": {
  "kernelspec": {
   "display_name": "Python 3 (ipykernel)",
   "language": "python",
   "name": "python3"
  },
  "language_info": {
   "codemirror_mode": {
    "name": "ipython",
    "version": 3
   },
   "file_extension": ".py",
   "mimetype": "text/x-python",
   "name": "python",
   "nbconvert_exporter": "python",
   "pygments_lexer": "ipython3",
   "version": "3.11.3"
  }
 },
 "nbformat": 4,
 "nbformat_minor": 5
}
