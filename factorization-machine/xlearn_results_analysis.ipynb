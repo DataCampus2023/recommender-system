{
 "cells": [
  {
   "cell_type": "markdown",
   "metadata": {},
   "source": [
    "# [Quick Practice] \n",
    "-----\n",
    "-----\n",
    "## Post-Analysis Process - Factorization Machine\n",
    "#### Using xlearn python-wrapper module (https://xlearn-doc.readthedocs.io/en/latest/)\n",
    "\n",
    "- Using Titanic dataset. (https://www.kaggle.com/c/titanic)\n",
    "- Original paper (Steffen Rendle, https://www.csie.ntu.edu.tw/~b97053/paper/Rendle2010FM.pdf)\n",
    "- Basic Conceptual Description for FM in korean (http://yamalab.tistory.com/107)"
   ]
  },
  {
   "cell_type": "markdown",
   "metadata": {},
   "source": [
    "-----\n",
    "-----\n",
    "## Step 1 : prepare FM model"
   ]
  },
  {
   "cell_type": "code",
   "execution_count": 1,
   "metadata": {},
   "outputs": [],
   "source": [
    "import pandas as pd\n",
    "import numpy as np\n",
    "from sklearn.model_selection import train_test_split"
   ]
  },
  {
   "cell_type": "code",
   "execution_count": 2,
   "metadata": {},
   "outputs": [],
   "source": [
    "df1_path = \"./dataset/titanic_dataset.csv\"\n",
    "df2_path = \"./dataset/titanic_answer.csv\""
   ]
  },
  {
   "cell_type": "code",
   "execution_count": 3,
   "metadata": {},
   "outputs": [],
   "source": [
    "df1 = pd.read_csv(df1_path)\n",
    "df2 = pd.read_csv(df2_path)\n",
    "df = df1.append(df2)"
   ]
  },
  {
   "cell_type": "code",
   "execution_count": 4,
   "metadata": {},
   "outputs": [],
   "source": [
    "def age_discretize(x):\n",
    "    if x == np.nan:\n",
    "        return '10'\n",
    "    else:\n",
    "        x = int(x)\n",
    "        if x < 10:\n",
    "            return '1'\n",
    "        elif x < 20 and x >= 10:\n",
    "            return '2'\n",
    "        elif x < 30 and x >= 20:\n",
    "            return '3'\n",
    "        elif x < 40 and x >= 30:\n",
    "            return '4'\n",
    "        elif x < 50 and x >= 40:\n",
    "            return '5'\n",
    "        elif x < 60 and x >= 50:\n",
    "            return '6'\n",
    "        elif x < 70 and x >= 60:\n",
    "            return '7'\n",
    "        elif x < 80 and x >= 70:\n",
    "            return '8'\n",
    "        elif x < 90 and x >= 80:\n",
    "            return '9'\n",
    "        else:\n",
    "            return '10'\n",
    "\n",
    "def fare_discretize(x):\n",
    "    if x < 10:\n",
    "        return '1'\n",
    "    elif x < 20 and x >= 10:\n",
    "        return '2'\n",
    "    elif x < 30 and x >= 20:\n",
    "        return '3'\n",
    "    elif x < 40 and x >= 30:\n",
    "        return '4'\n",
    "    elif x < 50 and x >= 40:\n",
    "        return '5'\n",
    "    elif x < 60 and x >= 50:\n",
    "        return '6'\n",
    "    elif x < 70 and x >= 60:\n",
    "        return '7'\n",
    "    elif x < 80 and x >= 70:\n",
    "        return '8'\n",
    "    elif x < 90 and x >= 80:\n",
    "        return '9'\n",
    "    else:\n",
    "        return '10'"
   ]
  },
  {
   "cell_type": "code",
   "execution_count": 5,
   "metadata": {},
   "outputs": [],
   "source": [
    "df = df[['survived', 'pclass', 'sex', 'age', 'sibsp', 'parch', 'fare']]\n",
    "df = df.dropna()\n",
    "\n",
    "df['sex'] = df['sex'].apply(lambda x: '1' if x == \"female\" else '0')\n",
    "df['age'] = df['age'].apply(lambda x: age_discretize(x))\n",
    "df['fare'] = df['fare'].apply(lambda x: fare_discretize(int(x)))\n",
    "\n",
    "df['survived'] = df['survived'].astype('str')\n",
    "df['pclass'] = df['pclass'].astype('str')\n",
    "df['sibsp'] = df['sibsp'].astype('str')\n",
    "df['parch'] = df['parch'].astype('str')"
   ]
  },
  {
   "cell_type": "code",
   "execution_count": 6,
   "metadata": {},
   "outputs": [],
   "source": [
    "# make discretized label to 1~n dict\n",
    "def make_encoding_label_dict(col_unique):\n",
    "    encoded_dict = {}\n",
    "    for idx, unique in enumerate(col_unique):\n",
    "        encoded_dict[unique] = idx + 1\n",
    "\n",
    "    return encoded_dict\n",
    "\n",
    "\n",
    "# get new encoding result\n",
    "def get_newcode(key, label_dict):\n",
    "    com_len = len(label_dict)\n",
    "    if key == np.nan:\n",
    "        return\n",
    "    else:\n",
    "        if key in label_dict:\n",
    "            return label_dict[key]\n",
    "        else:\n",
    "            return com_len + 1"
   ]
  },
  {
   "cell_type": "code",
   "execution_count": 7,
   "metadata": {},
   "outputs": [],
   "source": [
    "encoded_sibsp_dict = make_encoding_label_dict(df.sibsp.value_counts().index.tolist())\n",
    "encoded_parch_dict = make_encoding_label_dict(df.parch.value_counts().index.tolist())"
   ]
  },
  {
   "cell_type": "code",
   "execution_count": 8,
   "metadata": {},
   "outputs": [],
   "source": [
    "df['sibsp'] = df['sibsp'].apply(lambda x: get_newcode(x, encoded_sibsp_dict))\n",
    "df['parch'] = df['parch'].apply(lambda x: get_newcode(x, encoded_parch_dict))"
   ]
  },
  {
   "cell_type": "code",
   "execution_count": 9,
   "metadata": {},
   "outputs": [],
   "source": [
    "col_len_dict = {'pclass': 3, 'sex': 1, 'age': 9, 'sibsp': 7, 'parch': 7, 'fare': 10}\n",
    "col_accum_index_dict = {}\n",
    "cumulative = 0\n",
    "for key, value in col_len_dict.items():\n",
    "    col_accum_index_dict[key] = cumulative\n",
    "    cumulative = cumulative + value\n",
    "\n",
    "train_df, test_df = train_test_split(df, test_size=0.2)"
   ]
  },
  {
   "cell_type": "code",
   "execution_count": 10,
   "metadata": {},
   "outputs": [],
   "source": [
    "txt_file = open('./dataset/train.txt', 'w')\n",
    "for idx, row in train_df.iterrows():\n",
    "    vec = []\n",
    "    label = row['survived']\n",
    "    vec.append(str(label))\n",
    "    row = row.drop(labels=['survived'])\n",
    "    for key, value in row.items():\n",
    "        if col_len_dict[key] == 1:\n",
    "            if value != '0':\n",
    "                col_idx = col_accum_index_dict[key]\n",
    "                out_val = value\n",
    "                vec.append(str(col_idx) + \":\" + str(out_val))\n",
    "        else:\n",
    "            col_idx = col_accum_index_dict[key] + (int(value) - 1)\n",
    "            out_val = 1\n",
    "            vec.append(str(col_idx) + \":\" + str(out_val))\n",
    "    txt_file.write(\"%s\\n\" % \" \".join(vec))\n",
    "txt_file.close()"
   ]
  },
  {
   "cell_type": "code",
   "execution_count": 11,
   "metadata": {},
   "outputs": [],
   "source": [
    "txt_file = open('./dataset/test.txt', 'w')\n",
    "for idx, row in test_df.iterrows():\n",
    "    vec = []\n",
    "    label = row['survived']\n",
    "    vec.append(str(label))\n",
    "    row = row.drop(labels=['survived'])\n",
    "    for key, value in row.items():\n",
    "        if col_len_dict[key] == 1:\n",
    "            if value != '0':\n",
    "                col_idx = col_accum_index_dict[key]\n",
    "                out_val = value\n",
    "                vec.append(str(col_idx) + \":\" + str(out_val))\n",
    "        else:\n",
    "            col_idx = col_accum_index_dict[key] + (int(value) - 1)\n",
    "            out_val = 1\n",
    "            vec.append(str(col_idx) + \":\" + str(out_val))\n",
    "    txt_file.write(\"%s\\n\" % \" \".join(vec))\n",
    "txt_file.close()"
   ]
  },
  {
   "cell_type": "markdown",
   "metadata": {},
   "source": [
    "-----\n",
    "-----\n",
    "## Step 2 : learn FM model"
   ]
  },
  {
   "cell_type": "code",
   "execution_count": 68,
   "metadata": {},
   "outputs": [],
   "source": [
    "import xlearn as xl\n",
    "\n",
    "def runner(param, txt_file='./model.txt'):\n",
    "    fm_model = xl.create_fm()\n",
    "\n",
    "    train_path = './dataset/train.txt'\n",
    "    test_path = './dataset/test.txt'\n",
    "\n",
    "    fm_model.setTrain(train_path)\n",
    "    fm_model.setValidate(test_path)\n",
    "\n",
    "    # Start to train : fit이 seTXTModel 보다 뒤에 있어야만 model.txt가 생성됨.\n",
    "    fm_model.setTXTModel(txt_file)\n",
    "    fm_model.fit(param, './model.out')\n",
    "\n",
    "    # Prediction task\n",
    "    fm_model.setTest(test_path)\n",
    "    fm_model.setSigmoid()\n",
    "\n",
    "    # Start to predict\n",
    "    fm_model.predict(\"./model.out\", \"./output.txt\")"
   ]
  },
  {
   "cell_type": "code",
   "execution_count": 191,
   "metadata": {},
   "outputs": [],
   "source": [
    "# 실험군\n",
    "txt_file = './abnormal.txt'\n",
    "param = {'task':'binary',\n",
    "         'epoch': 3,\n",
    "         'lr': 0.002,\n",
    "         'lambda': 0.1,\n",
    "         'k': 4,\n",
    "         'metric': 'auc', \n",
    "         'opt': 'sgd'}\n",
    "runner(param, txt_file=txt_file)"
   ]
  },
  {
   "cell_type": "code",
   "execution_count": 190,
   "metadata": {},
   "outputs": [],
   "source": [
    "# 대조군\n",
    "txt_file = './normal.txt'\n",
    "param = {'task':'binary',\n",
    "         'epoch': 15,\n",
    "         'lr': 0.1,\n",
    "         'lambda': 0.002,\n",
    "         'k': 8,\n",
    "         'metric': 'auc',\n",
    "         'opt': 'adagrad'}\n",
    "runner(param, txt_file=txt_file)"
   ]
  },
  {
   "cell_type": "markdown",
   "metadata": {},
   "source": [
    "-----\n",
    "-----\n",
    "## Step 3 : Analyze FM's vectors"
   ]
  },
  {
   "cell_type": "markdown",
   "metadata": {},
   "source": [
    "- Compare normal params VS abnormal params"
   ]
  },
  {
   "cell_type": "code",
   "execution_count": 200,
   "metadata": {},
   "outputs": [],
   "source": [
    "txt_path = './normal.txt'\n",
    "\n",
    "k = 8\n",
    "w_0 = {}\n",
    "w_i = {}\n",
    "v_ik = {}\n",
    "with open(txt_path, 'r') as my_file:\n",
    "    lines = my_file.readlines()\n",
    "    for line in lines:\n",
    "        cut_line = line.strip().split(':')\n",
    "        if cut_line[0] == 'bias':\n",
    "            w_0[cut_line[0]] = cut_line[1]\n",
    "        elif \"i\" in cut_line[0]:\n",
    "            idx = int(cut_line[0].split('_')[1])\n",
    "            name = \"\"\n",
    "            for key, value in col_accum_index_dict.items():\n",
    "                if idx >= value:\n",
    "                    name = key\n",
    "            w_i[cut_line[0]+\"_\"+name] = cut_line[1]\n",
    "        else:\n",
    "            idx = int(cut_line[0].split('_')[1])\n",
    "            name = \"\"\n",
    "            for key, value in col_accum_index_dict.items():\n",
    "                if idx >= value:\n",
    "                    name = key\n",
    "            v_ik[cut_line[0]+\"_\"+name] = {}\n",
    "            v_k = cut_line[1].strip().split(' ')\n",
    "            for f in range(k):\n",
    "                v_ik[cut_line[0]+\"_\"+name][f] = float(v_k[f])"
   ]
  },
  {
   "cell_type": "code",
   "execution_count": 201,
   "metadata": {},
   "outputs": [],
   "source": [
    "normal_w_0 = w_0\n",
    "normal_w_i = w_i\n",
    "normal_v_ik = v_ik"
   ]
  },
  {
   "cell_type": "code",
   "execution_count": 202,
   "metadata": {},
   "outputs": [],
   "source": [
    "txt_path = './abnormal.txt'\n",
    "\n",
    "k = 4\n",
    "w_0 = {}\n",
    "w_i = {}\n",
    "v_ik = {}\n",
    "with open(txt_path, 'r') as my_file:\n",
    "    lines = my_file.readlines()\n",
    "    for line in lines:\n",
    "        cut_line = line.strip().split(':')\n",
    "        if cut_line[0] == 'bias':\n",
    "            w_0[cut_line[0]] = cut_line[1]\n",
    "        elif \"i\" in cut_line[0]:\n",
    "            idx = int(cut_line[0].split('_')[1])\n",
    "            name = \"\"\n",
    "            for key, value in col_accum_index_dict.items():\n",
    "                if idx >= value:\n",
    "                    name = key\n",
    "            w_i[cut_line[0]+\"_\"+name] = cut_line[1]\n",
    "        else:\n",
    "            idx = int(cut_line[0].split('_')[1])\n",
    "            name = \"\"\n",
    "            for key, value in col_accum_index_dict.items():\n",
    "                if idx >= value:\n",
    "                    name = key\n",
    "            v_ik[cut_line[0]+\"_\"+name] = {}\n",
    "            v_k = cut_line[1].strip().split(' ')\n",
    "            for f in range(k):\n",
    "                v_ik[cut_line[0]+\"_\"+name][f] = float(v_k[f])"
   ]
  },
  {
   "cell_type": "code",
   "execution_count": 203,
   "metadata": {},
   "outputs": [],
   "source": [
    "abnormal_w_0 = w_0\n",
    "abnormal_w_i = w_i\n",
    "abnormal_v_ik = v_ik"
   ]
  },
  {
   "cell_type": "markdown",
   "metadata": {},
   "source": [
    "-----"
   ]
  },
  {
   "cell_type": "code",
   "execution_count": 205,
   "metadata": {},
   "outputs": [
    {
     "data": {
      "text/plain": [
       "{'v_0_pclass': {0: 0.145897,\n",
       "  1: 0.137539,\n",
       "  2: 0.214149,\n",
       "  3: 0.349976,\n",
       "  4: 0.358427,\n",
       "  5: 0.155407,\n",
       "  6: 0.245954,\n",
       "  7: 0.178882},\n",
       " 'v_1_pclass': {0: 0.0754734,\n",
       "  1: 0.206675,\n",
       "  2: 0.0253535,\n",
       "  3: 0.136588,\n",
       "  4: 0.16604,\n",
       "  5: 0.180926,\n",
       "  6: 0.149988,\n",
       "  7: 0.137954},\n",
       " 'v_2_pclass': {0: 0.0267583,\n",
       "  1: 0.100057,\n",
       "  2: 0.0155853,\n",
       "  3: 0.0178282,\n",
       "  4: -0.0645885,\n",
       "  5: -0.039075,\n",
       "  6: 0.0542967,\n",
       "  7: 0.0277555},\n",
       " 'v_3_sex': {0: 0.477217,\n",
       "  1: 0.419632,\n",
       "  2: 0.283619,\n",
       "  3: 0.555735,\n",
       "  4: 0.572946,\n",
       "  5: 0.378615,\n",
       "  6: 0.454913,\n",
       "  7: 0.304823},\n",
       " 'v_4_age': {0: 0.1005,\n",
       "  1: 0.151524,\n",
       "  2: 0.113087,\n",
       "  3: 0.222345,\n",
       "  4: 0.208699,\n",
       "  5: 0.181377,\n",
       "  6: 0.158879,\n",
       "  7: 0.0576632},\n",
       " 'v_5_age': {0: 0.146877,\n",
       "  1: 0.116064,\n",
       "  2: 0.132668,\n",
       "  3: 0.211374,\n",
       "  4: 0.145101,\n",
       "  5: 0.18706,\n",
       "  6: 0.0381503,\n",
       "  7: 0.055027},\n",
       " 'v_6_age': {0: 0.0851252,\n",
       "  1: 0.185806,\n",
       "  2: 0.0424193,\n",
       "  3: 0.0695483,\n",
       "  4: 0.175815,\n",
       "  5: 0.111551,\n",
       "  6: 0.17286,\n",
       "  7: 0.0862598},\n",
       " 'v_7_age': {0: 0.104975,\n",
       "  1: 0.0993073,\n",
       "  2: 0.180967,\n",
       "  3: 0.22237,\n",
       "  4: 0.159259,\n",
       "  5: 0.0324864,\n",
       "  6: 0.159185,\n",
       "  7: 0.077163},\n",
       " 'v_8_age': {0: 0.0711906,\n",
       "  1: -0.000663055,\n",
       "  2: 0.000768347,\n",
       "  3: 0.000699335,\n",
       "  4: 0.079459,\n",
       "  5: -0.0252718,\n",
       "  6: 0.0876816,\n",
       "  7: 0.0764271},\n",
       " 'v_9_age': {0: 0.129614,\n",
       "  1: 0.154155,\n",
       "  2: 0.021246,\n",
       "  3: 0.0233314,\n",
       "  4: 0.19259,\n",
       "  5: 0.0833483,\n",
       "  6: 0.0534593,\n",
       "  7: 0.0433696},\n",
       " 'v_10_age': {0: 0.189234,\n",
       "  1: 0.199458,\n",
       "  2: -0.00172937,\n",
       "  3: 0.1506,\n",
       "  4: 0.102013,\n",
       "  5: 0.11615,\n",
       "  6: 0.112019,\n",
       "  7: 0.108385},\n",
       " 'v_11_age': {0: 0.0252427,\n",
       "  1: 0.0548023,\n",
       "  2: 0.178893,\n",
       "  3: 0.124159,\n",
       "  4: 0.196328,\n",
       "  5: 0.0538143,\n",
       "  6: 0.0372689,\n",
       "  7: 0.0568},\n",
       " 'v_12_age': {0: 0.0964964,\n",
       "  1: 0.0240413,\n",
       "  2: 0.154305,\n",
       "  3: 0.155038,\n",
       "  4: 0.0348248,\n",
       "  5: 0.0401064,\n",
       "  6: 0.0255736,\n",
       "  7: 0.224808},\n",
       " 'v_13_sibsp': {0: 0.161492,\n",
       "  1: 0.100376,\n",
       "  2: 0.132945,\n",
       "  3: 0.213345,\n",
       "  4: 0.209258,\n",
       "  5: 0.140575,\n",
       "  6: 0.0716002,\n",
       "  7: 0.108482},\n",
       " 'v_14_sibsp': {0: 0.0605064,\n",
       "  1: 0.125348,\n",
       "  2: 0.0355364,\n",
       "  3: 0.152379,\n",
       "  4: 0.0703259,\n",
       "  5: 0.146963,\n",
       "  6: 0.0776778,\n",
       "  7: 0.149029},\n",
       " 'v_15_sibsp': {0: 0.0184953,\n",
       "  1: 0.0489596,\n",
       "  2: 0.0910728,\n",
       "  3: 0.180346,\n",
       "  4: 0.1143,\n",
       "  5: 0.192764,\n",
       "  6: 0.127974,\n",
       "  7: 0.177302},\n",
       " 'v_16_sibsp': {0: 0.112744,\n",
       "  1: 0.0281716,\n",
       "  2: 0.151664,\n",
       "  3: 0.0645833,\n",
       "  4: 0.133432,\n",
       "  5: -0.0104805,\n",
       "  6: 0.0885464,\n",
       "  7: 0.140948},\n",
       " 'v_17_sibsp': {0: 0.212291,\n",
       "  1: 0.203636,\n",
       "  2: 0.17127,\n",
       "  3: 0.17338,\n",
       "  4: 0.125252,\n",
       "  5: -0.00408208,\n",
       "  6: 0.0320935,\n",
       "  7: 0.112468},\n",
       " 'v_18_sibsp': {0: 0.163243,\n",
       "  1: 0.0580596,\n",
       "  2: 0.131545,\n",
       "  3: 0.118014,\n",
       "  4: 0.183522,\n",
       "  5: 0.106472,\n",
       "  6: 0.20281,\n",
       "  7: 0.0618184},\n",
       " 'v_19_sibsp': {0: 0.181323,\n",
       "  1: 0.226069,\n",
       "  2: 0.0117397,\n",
       "  3: 0.222285,\n",
       "  4: 0.0497696,\n",
       "  5: 0.101866,\n",
       "  6: 0.140659,\n",
       "  7: 0.0684766},\n",
       " 'v_20_parch': {0: 0.149401,\n",
       "  1: -0.0122087,\n",
       "  2: -0.00823152,\n",
       "  3: 0.115674,\n",
       "  4: 0.0767244,\n",
       "  5: 0.119799,\n",
       "  6: 0.0919792,\n",
       "  7: -0.018506},\n",
       " 'v_21_parch': {0: 0.219434,\n",
       "  1: 0.105911,\n",
       "  2: 0.141086,\n",
       "  3: 0.0881603,\n",
       "  4: 0.271268,\n",
       "  5: 0.16947,\n",
       "  6: 0.0994871,\n",
       "  7: 0.14338},\n",
       " 'v_22_parch': {0: 0.208542,\n",
       "  1: 0.103076,\n",
       "  2: 0.117032,\n",
       "  3: 0.116564,\n",
       "  4: 0.206343,\n",
       "  5: 0.251397,\n",
       "  6: 0.0645268,\n",
       "  7: 0.177432},\n",
       " 'v_23_parch': {0: 0.0923463,\n",
       "  1: 0.231073,\n",
       "  2: 0.014162,\n",
       "  3: 0.0210199,\n",
       "  4: 0.215661,\n",
       "  5: 0.139655,\n",
       "  6: 0.238329,\n",
       "  7: 0.0206552},\n",
       " 'v_24_parch': {0: 0.00650947,\n",
       "  1: 0.179423,\n",
       "  2: 0.0204398,\n",
       "  3: 0.214435,\n",
       "  4: 0.0624274,\n",
       "  5: 0.0459077,\n",
       "  6: 0.17925,\n",
       "  7: 0.0854098},\n",
       " 'v_25_parch': {0: 0.19379,\n",
       "  1: 0.135132,\n",
       "  2: 0.222928,\n",
       "  3: 0.166157,\n",
       "  4: 0.0364412,\n",
       "  5: 0.207335,\n",
       "  6: 0.148663,\n",
       "  7: 0.00172462},\n",
       " 'v_26_parch': {0: 0.116782,\n",
       "  1: 0.190212,\n",
       "  2: 0.169734,\n",
       "  3: 0.206957,\n",
       "  4: 0.169422,\n",
       "  5: 0.0389533,\n",
       "  6: 0.0708712,\n",
       "  7: 0.128727},\n",
       " 'v_27_fare': {0: -0.0041869,\n",
       "  1: 0.0485585,\n",
       "  2: 0.0981103,\n",
       "  3: 0.0284728,\n",
       "  4: 0.0342443,\n",
       "  5: 0.0589864,\n",
       "  6: 0.0410608,\n",
       "  7: 0.0175488},\n",
       " 'v_28_fare': {0: 0.103076,\n",
       "  1: 0.0627972,\n",
       "  2: 0.155301,\n",
       "  3: 0.112542,\n",
       "  4: 0.173472,\n",
       "  5: 0.0214034,\n",
       "  6: 0.0930739,\n",
       "  7: 0.0343073},\n",
       " 'v_29_fare': {0: 0.0742922,\n",
       "  1: 0.14693,\n",
       "  2: 0.195807,\n",
       "  3: 0.179228,\n",
       "  4: 0.0950647,\n",
       "  5: 0.0395951,\n",
       "  6: 0.0603499,\n",
       "  7: 0.102474},\n",
       " 'v_30_fare': {0: 0.0495654,\n",
       "  1: 0.0420218,\n",
       "  2: 0.0430239,\n",
       "  3: 0.212072,\n",
       "  4: 0.0617645,\n",
       "  5: 0.149466,\n",
       "  6: 0.188024,\n",
       "  7: 0.17024},\n",
       " 'v_31_fare': {0: 0.084034,\n",
       "  1: 0.000859148,\n",
       "  2: 0.00276762,\n",
       "  3: 0.0126288,\n",
       "  4: 0.133186,\n",
       "  5: -0.0204229,\n",
       "  6: 0.0342992,\n",
       "  7: 0.0846093},\n",
       " 'v_32_fare': {0: 0.156848,\n",
       "  1: 0.132738,\n",
       "  2: 0.0360274,\n",
       "  3: 0.0941745,\n",
       "  4: 0.128708,\n",
       "  5: 0.101825,\n",
       "  6: 0.195845,\n",
       "  7: 0.143053},\n",
       " 'v_33_fare': {0: 0.199108,\n",
       "  1: 0.166992,\n",
       "  2: 0.221578,\n",
       "  3: 0.0539653,\n",
       "  4: 0.0526531,\n",
       "  5: 0.0449341,\n",
       "  6: 0.228888,\n",
       "  7: 0.0945837},\n",
       " 'v_34_fare': {0: 0.173814,\n",
       "  1: 0.0401339,\n",
       "  2: 0.182484,\n",
       "  3: 0.166682,\n",
       "  4: 0.0521027,\n",
       "  5: 0.106395,\n",
       "  6: 0.221677,\n",
       "  7: 0.0846373},\n",
       " 'v_35_fare': {0: 0.169528,\n",
       "  1: 0.0278924,\n",
       "  2: 0.246128,\n",
       "  3: 0.268612,\n",
       "  4: 0.199837,\n",
       "  5: 0.0870645,\n",
       "  6: 0.126211,\n",
       "  7: 0.174683},\n",
       " 'v_36_fare': {0: 0.194798,\n",
       "  1: 0.222716,\n",
       "  2: 0.120095,\n",
       "  3: 0.176311,\n",
       "  4: 0.239576,\n",
       "  5: 0.21554,\n",
       "  6: 0.0535441,\n",
       "  7: 0.0847761}}"
      ]
     },
     "execution_count": 205,
     "metadata": {},
     "output_type": "execute_result"
    }
   ],
   "source": [
    "normal_v_ik"
   ]
  },
  {
   "cell_type": "code",
   "execution_count": 198,
   "metadata": {
    "scrolled": true
   },
   "outputs": [
    {
     "data": {
      "text/plain": [
       "{'v_0_pclass': {0: '0.00447781', 1: '0.0285859', 2: '0.177845', 3: '0.261092'},\n",
       " 'v_1_pclass': {0: '0.279614', 1: '0.0532501', 2: '0.149388', 3: '0.11386'},\n",
       " 'v_2_pclass': {0: '0.0579339', 1: '0.183924', 2: '0.0169601', 3: '0.136954'},\n",
       " 'v_3_sex': {0: '0.17145', 1: '0.232699', 2: '0.173748', 3: '0.153535'},\n",
       " 'v_4_age': {0: '0.279116', 1: '0.316482', 2: '0.231646', 3: '0.307696'},\n",
       " 'v_5_age': {0: '0.090445', 1: '0.129861', 2: '0.27749', 3: '0.200443'},\n",
       " 'v_6_age': {0: '0.247973', 1: '0.264132', 2: '0.0452986', 3: '0.236522'},\n",
       " 'v_7_age': {0: '0.267588', 1: '0.0851007', 2: '0.278237', 3: '0.121951'},\n",
       " 'v_8_age': {0: '0.0936632', 1: '0.157318', 2: '0.121423', 3: '0.242474'},\n",
       " 'v_9_age': {0: '0.219522', 1: '0.173406', 2: '0.189139', 3: '0.0298527'},\n",
       " 'v_10_age': {0: '0.197023', 1: '0.139537', 2: '0.193913', 3: '0.273134'},\n",
       " 'v_11_age': {0: '0.16184', 1: '0.254147', 2: '0.0233973', 3: '0.06286'},\n",
       " 'v_12_age': {0: '0.0738043', 1: '0.257433', 2: '0.0277634', 3: '0.0599173'},\n",
       " 'v_13_sibsp': {0: '0.140354', 1: '0.13065', 2: '0.176386', 3: '0.0683012'},\n",
       " 'v_14_sibsp': {0: '0.127655', 1: '0.119892', 2: '0.264952', 3: '0.288225'},\n",
       " 'v_15_sibsp': {0: '0.186662', 1: '0.0527647', 2: '0.226611', 3: '0.108246'},\n",
       " 'v_16_sibsp': {0: '0.147935', 1: '0.0236538', 2: '0.0410667', 3: '0.0555827'},\n",
       " 'v_17_sibsp': {0: '0.144672', 1: '0.0120866', 2: '0.165032', 3: '0.152976'},\n",
       " 'v_18_sibsp': {0: '0.190418', 1: '0.221572', 2: '0.0304373', 3: '0.0215892'},\n",
       " 'v_19_sibsp': {0: '0.274576', 1: '0.1285', 2: '0.0628649', 3: '0.0544603'},\n",
       " 'v_20_parch': {0: '0.212397', 1: '0.219435', 2: '0.020325', 3: '0.193009'},\n",
       " 'v_21_parch': {0: '0.191959', 1: '0.207173', 2: '0.189399', 3: '0.181401'},\n",
       " 'v_22_parch': {0: '0.0487412', 1: '0.0812976', 2: '0.253193', 3: '0.188142'},\n",
       " 'v_23_parch': {0: '0.295232', 1: '0.0896536', 2: '0.0652932', 3: '0.0891949'},\n",
       " 'v_24_parch': {0: '0.130288', 1: '0.0313791', 2: '0.213071', 3: '0.207904'},\n",
       " 'v_25_parch': {0: '0.0410834', 1: '0.0496463', 2: '0.0291457', 3: '0.312191'},\n",
       " 'v_26_parch': {0: '0.178255', 1: '0.0139708', 2: '0.18132', 3: '0.242346'},\n",
       " 'v_27_fare': {0: '0.128511', 1: '0.121994', 2: '-0.00270322', 3: '0.0547941'},\n",
       " 'v_28_fare': {0: '0.057146', 1: '0.165678', 2: '0.0319565', 3: '0.175326'},\n",
       " 'v_29_fare': {0: '0.0509783', 1: '0.211665', 2: '0.0740744', 3: '0.201188'},\n",
       " 'v_30_fare': {0: '0.0128454', 1: '0.0548642', 2: '0.116256', 3: '0.238664'},\n",
       " 'v_31_fare': {0: '0.128124', 1: '0.269055', 2: '0.183729', 3: '0.245532'},\n",
       " 'v_32_fare': {0: '0.224589', 1: '0.104123', 2: '0.268659', 3: '0.173456'},\n",
       " 'v_33_fare': {0: '0.25495', 1: '0.0484271', 2: '0.191235', 3: '0.258969'},\n",
       " 'v_34_fare': {0: '0.309249', 1: '0.296514', 2: '0.254686', 3: '0.258141'},\n",
       " 'v_35_fare': {0: '0.187624', 1: '0.00397338', 2: '0.0509293', 3: '0.167591'},\n",
       " 'v_36_fare': {0: '0.242921', 1: '0.0951279', 2: '0.192547', 3: '0.179076'}}"
      ]
     },
     "execution_count": 198,
     "metadata": {},
     "output_type": "execute_result"
    }
   ],
   "source": [
    "abnormal_v_ik"
   ]
  },
  {
   "cell_type": "code",
   "execution_count": 212,
   "metadata": {},
   "outputs": [],
   "source": [
    "normal_max_list = []\n",
    "normal_min_list = []\n",
    "for feature, vk in normal_v_ik.items():\n",
    "    vk_max = max(vk.keys(), key=(lambda k: vk[k]))\n",
    "    vk_min = min(vk.keys(), key=(lambda k: vk[k]))\n",
    "    normal_max_list.append(vk[vk_max])\n",
    "    normal_min_list.append(vk[vk_min])\n",
    "    \n",
    "abnormal_max_list = []\n",
    "abnormal_min_list = []\n",
    "for feature, vk in abnormal_v_ik.items():\n",
    "    vk_max = max(vk.keys(), key=(lambda k: vk[k]))\n",
    "    vk_min = min(vk.keys(), key=(lambda k: vk[k]))\n",
    "    abnormal_max_list.append(vk[vk_max])\n",
    "    abnormal_min_list.append(vk[vk_min])"
   ]
  },
  {
   "cell_type": "markdown",
   "metadata": {},
   "source": [
    "-----"
   ]
  },
  {
   "cell_type": "code",
   "execution_count": 213,
   "metadata": {},
   "outputs": [],
   "source": [
    "%matplotlib inline\n",
    "\n",
    "import matplotlib.pyplot as plt"
   ]
  },
  {
   "cell_type": "code",
   "execution_count": 217,
   "metadata": {},
   "outputs": [
    {
     "data": {
      "text/plain": [
       "<matplotlib.collections.PathCollection at 0x13458ab00>"
      ]
     },
     "execution_count": 217,
     "metadata": {},
     "output_type": "execute_result"
    },
    {
     "data": {
      "image/png": "[encoded data removed]",
      "text/plain": [
       "<Figure size 432x288 with 1 Axes>"
      ]
     },
     "metadata": {
      "needs_background": "light"
     },
     "output_type": "display_data"
    }
   ],
   "source": [
    "plt.scatter(normal_max_list, normal_min_list)"
   ]
  },
  {
   "cell_type": "code",
   "execution_count": 218,
   "metadata": {},
   "outputs": [
    {
     "data": {
      "text/plain": [
       "<matplotlib.collections.PathCollection at 0x1158326a0>"
      ]
     },
     "execution_count": 218,
     "metadata": {},
     "output_type": "execute_result"
    },
    {
     "data": {
      "image/png": "[encoded data removed]",
      "text/plain": [
       "<Figure size 432x288 with 1 Axes>"
      ]
     },
     "metadata": {
      "needs_background": "light"
     },
     "output_type": "display_data"
    }
   ],
   "source": [
    "plt.scatter(abnormal_max_list, abnormal_min_list)"
   ]
  },
  {
   "cell_type": "code",
   "execution_count": null,
   "metadata": {},
   "outputs": [],
   "source": [
    "# todo : lm VS fm linear plot"
   ]
  }
 ],
 "metadata": {
  "kernelspec": {
   "display_name": "Python 3",
   "language": "python",
   "name": "python3"
  },
  "language_info": {
   "codemirror_mode": {
    "name": "ipython",
    "version": 3
   },
   "file_extension": ".py",
   "mimetype": "text/x-python",
   "name": "python",
   "nbconvert_exporter": "python",
   "pygments_lexer": "ipython3",
   "version": "3.6.6"
  }
 },
 "nbformat": 4,
 "nbformat_minor": 2
}
