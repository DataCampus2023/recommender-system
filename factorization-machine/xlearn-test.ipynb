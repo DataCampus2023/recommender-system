{
 "cells": [
  {
   "cell_type": "code",
   "execution_count": 13,
   "metadata": {},
   "outputs": [
    {
     "ename": "TypeError",
     "evalue": "setTXTModel() missing 1 required positional argument: 'model_path'",
     "output_type": "error",
     "traceback": [
      "\u001b[0;31m---------------------------------------------------------------------------\u001b[0m",
      "\u001b[0;31mTypeError\u001b[0m                                 Traceback (most recent call last)",
      "\u001b[0;32m<ipython-input-13-5fe28c998a12>\u001b[0m in \u001b[0;36m<module>\u001b[0;34m()\u001b[0m\n\u001b[1;32m     22\u001b[0m \u001b[0;31m# The trained model will be stored in model.out\u001b[0m\u001b[0;34m\u001b[0m\u001b[0;34m\u001b[0m\u001b[0m\n\u001b[1;32m     23\u001b[0m \u001b[0mffm_model\u001b[0m\u001b[0;34m.\u001b[0m\u001b[0mfit\u001b[0m\u001b[0;34m(\u001b[0m\u001b[0mparam\u001b[0m\u001b[0;34m,\u001b[0m \u001b[0;34m'./model.out'\u001b[0m\u001b[0;34m)\u001b[0m\u001b[0;34m\u001b[0m\u001b[0m\n\u001b[0;32m---> 24\u001b[0;31m \u001b[0mffm_model\u001b[0m\u001b[0;34m.\u001b[0m\u001b[0msetTXTModel\u001b[0m\u001b[0;34m(\u001b[0m\u001b[0;34m)\u001b[0m\u001b[0;34m\u001b[0m\u001b[0m\n\u001b[0m\u001b[1;32m     25\u001b[0m \u001b[0;34m\u001b[0m\u001b[0m\n\u001b[1;32m     26\u001b[0m \u001b[0;31m# # Prediction task\u001b[0m\u001b[0;34m\u001b[0m\u001b[0;34m\u001b[0m\u001b[0m\n",
      "\u001b[0;31mTypeError\u001b[0m: setTXTModel() missing 1 required positional argument: 'model_path'"
     ]
    }
   ],
   "source": [
    "import xlearn as xl\n",
    "\n",
    "ffm_model = xl.create_ffm()\n",
    "\n",
    "\n",
    "train_path = '/Users/admin/Downloads/xlearn-master/demo/classification/criteo_ctr/small_train.txt'\n",
    "train_path2 = '/Users/admin/Downloads/libffm_toy/criteo.tr.r100.gbdt0.ffm'\n",
    "test_path = '/Users/admin/Downloads/xlearn-master/demo/classification/criteo_ctr/small_test.txt'\n",
    "test_path2 = '/Users/admin/Downloads/libffm_toy/criteo.va.r100.gbdt0.ffm'\n",
    "\n",
    "\n",
    "ffm_model.setTrain(train_path2)\n",
    "ffm_model.setValidate(test_path2)\n",
    "\n",
    "# Parameters:\n",
    "param = {'task':'reg', \n",
    "         'epoch': 3,\n",
    "         'lr':0.2, \n",
    "         'lambda':0.002}\n",
    "\n",
    "# Start to train\n",
    "# The trained model will be stored in model.out\n",
    "ffm_model.fit(param, './model.out')\n",
    "ffm_model.setTXTModel('/Users/admin/Documents/github-workspace/recommender-system/factorization-machine')\n",
    "\n",
    "# # Prediction task\n",
    "# ffm_model.setTest(test_path2)  # Set the path of test dataset\n",
    "# ffm_model.setSigmoid()                 # Convert output to 0-1\n",
    "\n",
    "# # Start to predict\n",
    "# # The output result will be stored in output.txt\n",
    "# ffm_model.predict(\"./model.out\", \"./output.txt\")"
   ]
  },
  {
   "cell_type": "code",
   "execution_count": null,
   "metadata": {},
   "outputs": [],
   "source": []
  }
 ],
 "metadata": {
  "kernelspec": {
   "display_name": "Python 3",
   "language": "python",
   "name": "python3"
  },
  "language_info": {
   "codemirror_mode": {
    "name": "ipython",
    "version": 3
   },
   "file_extension": ".py",
   "mimetype": "text/x-python",
   "name": "python",
   "nbconvert_exporter": "python",
   "pygments_lexer": "ipython3",
   "version": "3.6.6"
  }
 },
 "nbformat": 4,
 "nbformat_minor": 2
}
