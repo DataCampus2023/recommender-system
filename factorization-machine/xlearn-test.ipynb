{
 "cells": [
  {
   "cell_type": "code",
   "execution_count": 1,
   "metadata": {},
   "outputs": [],
   "source": [
    "import xlearn as xl\n",
    "\n",
    "ffm_model = xl.create_ffm()\n",
    "\n",
    "\n",
    "train_path = '/Users/admin/Downloads/xlearn-master/demo/classification/criteo_ctr/small_train.txt'\n",
    "train_path2 = '/Users/admin/Downloads/libffm_toy/criteo.tr.r100.gbdt0.ffm'\n",
    "test_path = '/Users/admin/Downloads/xlearn-master/demo/classification/criteo_ctr/small_test.txt'\n",
    "test_path2 = '/Users/admin/Downloads/libffm_toy/criteo.va.r100.gbdt0.ffm'\n",
    "\n",
    "\n",
    "ffm_model.setTrain(train_path2)\n",
    "ffm_model.setValidate(test_path2)\n",
    "\n",
    "# Parameters:\n",
    "param = {'task':'reg', \n",
    "         'epoch': 3,\n",
    "         'lr':0.2, \n",
    "         'lambda':0.002}\n",
    "\n",
    "# Start to train\n",
    "# The trained model will be stored in model.out\n",
    "ffm_model.fit(param, './model.out')\n",
    "ffm_model.setTXTModel('./mdl.txt')\n",
    "\n",
    "# # Prediction task\n",
    "# ffm_model.setTest(test_path2)  # Set the path of test dataset\n",
    "# ffm_model.setSigmoid()                 # Convert output to 0-1\n",
    "\n",
    "# # Start to predict\n",
    "# # The output result will be stored in output.txt\n",
    "# ffm_model.predict(\"./model.out\", \"./output.txt\")"
   ]
  },
  {
   "cell_type": "code",
   "execution_count": null,
   "metadata": {},
   "outputs": [],
   "source": []
  }
 ],
 "metadata": {
  "kernelspec": {
   "display_name": "Python 3",
   "language": "python",
   "name": "python3"
  },
  "language_info": {
   "codemirror_mode": {
    "name": "ipython",
    "version": 3
   },
   "file_extension": ".py",
   "mimetype": "text/x-python",
   "name": "python",
   "nbconvert_exporter": "python",
   "pygments_lexer": "ipython3",
   "version": "3.6.6"
  }
 },
 "nbformat": 4,
 "nbformat_minor": 2
}
